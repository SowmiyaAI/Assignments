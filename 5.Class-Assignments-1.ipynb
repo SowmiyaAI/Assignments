{
 "cells": [
  {
   "cell_type": "code",
   "execution_count": 1,
   "metadata": {},
   "outputs": [],
   "source": [
    "list=[\"Machine Learning\",\"Neural Networks\",\"Vision\",\"Robotics\",\"Speech Processing\",\"Natural Language Processing\"]\n",
    "class subfieldsInAI():\n",
    "    def subfields():\n",
    "        print(\"Sub-fields in AI are:\")\n",
    "        for sub in list:\n",
    "            print(sub)"
   ]
  },
  {
   "cell_type": "code",
   "execution_count": 2,
   "metadata": {},
   "outputs": [
    {
     "name": "stdout",
     "output_type": "stream",
     "text": [
      "Sub-fields in AI are:\n",
      "Machine Learning\n",
      "Neural Networks\n",
      "Vision\n",
      "Robotics\n",
      "Speech Processing\n",
      "Natural Language Processing\n"
     ]
    }
   ],
   "source": [
    "subfieldsInAI.subfields() "
   ]
  },
  {
   "cell_type": "code",
   "execution_count": 3,
   "metadata": {},
   "outputs": [],
   "source": [
    "class oddEven():\n",
    "    def oddEven():\n",
    "        num=int(input(\"Enter a number: \"))\n",
    "        if(num%2==0):\n",
    "            print(num,\"is Even number\")\n",
    "        else:\n",
    "            print(num,\"is Odd number\")"
   ]
  },
  {
   "cell_type": "code",
   "execution_count": 4,
   "metadata": {},
   "outputs": [
    {
     "name": "stdout",
     "output_type": "stream",
     "text": [
      "Enter a number: 52452\n",
      "52452 is Even number\n"
     ]
    }
   ],
   "source": [
    "oddEven.oddEven()"
   ]
  },
  {
   "cell_type": "code",
   "execution_count": 5,
   "metadata": {},
   "outputs": [],
   "source": [
    "class ElegiblityForMarriage():\n",
    "    def Elegible():\n",
    "        gender=input(\"Your gender: \")\n",
    "        age=int(input(\"Your age: \"))\n",
    "        if(gender==\"female\"):\n",
    "            if(age>=18):\n",
    "                print(\"eligible for marriage\")\n",
    "                marry=\"eligible for marriage\"\n",
    "            else:\n",
    "                print(\"not eligible for marriage\")\n",
    "                marry=\"not eligible for marriage\"\n",
    "        if(gender==\"male\"):\n",
    "            if(age>=21):\n",
    "                print(\"eligible for marriage\")\n",
    "                marry=\"eligible for marriage\"\n",
    "            else:\n",
    "                print(\"not eligible for marriage\")    \n",
    "                marry=\"not eligible for marriage\"\n",
    "        return marry       "
   ]
  },
  {
   "cell_type": "code",
   "execution_count": 6,
   "metadata": {},
   "outputs": [
    {
     "name": "stdout",
     "output_type": "stream",
     "text": [
      "Your gender: male\n",
      "Your age: 20\n",
      "not eligible for marriage\n"
     ]
    },
    {
     "data": {
      "text/plain": [
       "'not eligible for marriage'"
      ]
     },
     "execution_count": 6,
     "metadata": {},
     "output_type": "execute_result"
    }
   ],
   "source": [
    "ElegiblityForMarriage.Elegible()     "
   ]
  },
  {
   "cell_type": "code",
   "execution_count": 7,
   "metadata": {},
   "outputs": [],
   "source": [
    "class ElegiblityForMarriage():\n",
    "    def Elegible():\n",
    "        gender=input(\"Your gender(male,female,m,f): \")\n",
    "        age=int(input(\"Your age: \"))\n",
    "        if(gender.lower() in (\"female\",\"f\")):\n",
    "            if(age>=18):\n",
    "                print(\"eligible for marriage\")\n",
    "                marry=\"eligible for marriage\"\n",
    "            else:\n",
    "                print(\"not eligible for marriage\")\n",
    "                marry=\"not eligible for marriage\"\n",
    "        elif(gender.lower() in (\"male\",\"m\")):\n",
    "            if(age>=21):\n",
    "                print(\"eligible for marriage\")\n",
    "                marry=\"eligible for marriage\"\n",
    "            else:\n",
    "                print(\"not eligible for marriage\")\n",
    "                marry=\"not eligible for marriage\"\n",
    "        return marry"
   ]
  },
  {
   "cell_type": "code",
   "execution_count": 8,
   "metadata": {},
   "outputs": [
    {
     "name": "stdout",
     "output_type": "stream",
     "text": [
      "Your gender(male,female,m,f): male\n",
      "Your age: 20\n",
      "not eligible for marriage\n"
     ]
    },
    {
     "data": {
      "text/plain": [
       "'not eligible for marriage'"
      ]
     },
     "execution_count": 8,
     "metadata": {},
     "output_type": "execute_result"
    }
   ],
   "source": [
    "ElegiblityForMarriage.Elegible()     "
   ]
  },
  {
   "cell_type": "code",
   "execution_count": 9,
   "metadata": {},
   "outputs": [],
   "source": [
    "class FindPercent():\n",
    "    def percentage():\n",
    "        sub1=int(input(\"Subject1=\"))\n",
    "        sub2=int(input(\"Subject2=\"))\n",
    "        sub3=int(input(\"Subject3=\"))\n",
    "        sub4=int(input(\"Subject4=\"))\n",
    "        sub5=int(input(\"Subject5=\"))\n",
    "        total=sub1+sub2+sub3+sub4+sub5\n",
    "        percentage=((total/500)*100)\n",
    "        print(\"total:\",total)\n",
    "        print(\"percentage:\",percentage)  "
   ]
  },
  {
   "cell_type": "code",
   "execution_count": 10,
   "metadata": {},
   "outputs": [
    {
     "name": "stdout",
     "output_type": "stream",
     "text": [
      "Subject1=98\n",
      "Subject2=87\n",
      "Subject3=95\n",
      "Subject4=95\n",
      "Subject5=93\n",
      "total: 468\n",
      "percentage: 93.60000000000001\n"
     ]
    }
   ],
   "source": [
    "FindPercent.percentage()"
   ]
  },
  {
   "cell_type": "code",
   "execution_count": 11,
   "metadata": {},
   "outputs": [],
   "source": [
    "class triangle():\n",
    "    def triangle():\n",
    "        Height=int(input(\"Height: \"))\n",
    "        Breadth=int(input(\"Breadth: \"))\n",
    "        Area_of_Triangle=(Height*Breadth)/2\n",
    "        print(\"Area of Triangle:\",Area_of_Triangle)\n",
    "        Height1=int(input(\"Height1:\"))\n",
    "        Height2=int(input(\"Height2:\"))\n",
    "        Breadth1=int(input(\"Breadth:\"))\n",
    "        perimeter=Height1+Height2+Breadth1\n",
    "        print(\"Perimeter of Triangle:\",perimeter)  "
   ]
  },
  {
   "cell_type": "code",
   "execution_count": 12,
   "metadata": {},
   "outputs": [
    {
     "name": "stdout",
     "output_type": "stream",
     "text": [
      "Height: 32\n",
      "Breadth: 34\n",
      "Area of Triangle: 544.0\n",
      "Height1:2\n",
      "Height2:4\n",
      "Breadth:4\n",
      "Perimeter of Triangle: 10\n"
     ]
    }
   ],
   "source": [
    "triangle.triangle()"
   ]
  },
  {
   "cell_type": "code",
   "execution_count": null,
   "metadata": {},
   "outputs": [],
   "source": []
  }
 ],
 "metadata": {
  "kernelspec": {
   "display_name": "Python 3",
   "language": "python",
   "name": "python3"
  },
  "language_info": {
   "codemirror_mode": {
    "name": "ipython",
    "version": 3
   },
   "file_extension": ".py",
   "mimetype": "text/x-python",
   "name": "python",
   "nbconvert_exporter": "python",
   "pygments_lexer": "ipython3",
   "version": "3.7.4"
  }
 },
 "nbformat": 4,
 "nbformat_minor": 2
}
